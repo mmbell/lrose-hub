{
 "cells": [
  {
   "cell_type": "markdown",
   "id": "3b5fe34d",
   "metadata": {},
   "source": [
    "# FRACTL Tutorial\n",
    "\n",
    "---\n",
    "\n",
    "This interactive tutorial takes you through the steps of how to run FRACTL. FRACTL is a fast traditional solver with integrated interpolation using LROSE infrastructure, and it is able to perform both gridding and multi-Doppler synthesis for airborne radars and multiple ground-based radars. This is different than Radx2Grid which is only capable of gridding data for a single ground-based radar. FRACTL adopts both REORDER and CEDRIC programs. REORDER transforms radar data from its native coordinate system to cartesian space and the data can then be ingested into CEDRIC for synthesis. FRACTL currently accepts either CfRadial or DORADE file format. Different than Radx2Grid, FRACTL doesn’t require the CfRadial file with an aggregation of the sweeps.\n",
    "\n",
    "---\n",
    "\n",
    "\n",
    "## Tutorial Overview\n",
    "\n",
    "### 1. Setup \n",
    "\n",
    "#### Directory organization \n",
    "\n",
    "<div>\n",
    "<img src=\"../images/wind_structure.png\" width=\"500\"/>\n",
    "</div>\n",
    "\n",
    "#### Download desired input data and a parameter file:\n",
    "\n",
    "**a. QC-ed radar data files will be downloaded in this example:**\n",
    "* cfrad.20080702_230459.000_to_20080702_230948.000_CSU-PAWN_PPI.nc\n",
    "* cfrad.20080702_230527.000_to_20080702_230946.000_CSU-CHIL_PPI.nc\n",
    "\n",
    "*The QC process is not included in this tutorial. Further QC details can be found on **??** *\n",
    "\n",
    "**b. Parameter file:**\n",
    "* fractl_params\n",
    "\n",
    "*Note: The parameter file have already been modified to run straight out of the box.*"
   ]
  },
  {
   "cell_type": "markdown",
   "id": "6cb1878d",
   "metadata": {},
   "source": [
    "#### Environment and packages¶\n",
    "\n",
    "First, we import the required python packages to run this notebook. Most of the LROSE processing can be done with the os package and shell commands. "
   ]
  },
  {
   "cell_type": "code",
   "execution_count": null,
   "id": "99d883cc",
   "metadata": {},
   "outputs": [],
   "source": [
    "import os\n",
    "#### Need to modify later\n",
    "os.environ['BASE_DIR'] = '/home/jovyan/ams2023'\n",
    "os.environ['LROSE_DIR'] = '/usr/local/lrose/bin'\n",
    "base_dir = os.environ['BASE_DIR']\n",
    "!echo \"Base directory: \"$BASE_DIR"
   ]
  },
  {
   "cell_type": "markdown",
   "id": "948c7b66",
   "metadata": {},
   "source": [
    "We will download the data and organize the directory by performing the following commands:"
   ]
  },
  {
   "cell_type": "code",
   "execution_count": null,
   "id": "4ae11140",
   "metadata": {},
   "outputs": [],
   "source": [
    "## make subdirectory within data for input and output directory\n",
    "!rm -rf ${BASE_DIR}/data/wind/input\n",
    "!mkdir -p ${BASE_DIR}/data/wind/input\n",
    "\n",
    "!rm -rf ${BASE_DIR}/data/wind/output_frac\n",
    "!mkdir ${BASE_DIR}/data/wind/output_frac\n",
    "\n",
    "# grab cleaned radar \n",
    "!wget http://front.eol.ucar.edu/data/notebooks/ams2023/cfrad.20080702_230459.000_to_20080702_230948.000_CSU-PAWN_PPI.nc\n",
    "!wget http://front.eol.ucar.edu/data/notebooks/ams2023/cfrad.20080702_230527.000_to_20080702_230946.000_CSU-CHIL_PPI.nc\n",
    "!wget http://front.eol.ucar.edu/data/notebooks/ams2023/20080702.cen\n",
    "\n",
    "# ## move files to proper directory\n",
    "!mv *.nc ${BASE_DIR}/data/wind/input\n",
    "!mv 20080702.cen ${BASE_DIR}/data/wind/input"
   ]
  },
  {
   "cell_type": "markdown",
   "id": "13e1a831",
   "metadata": {},
   "source": [
    "### 2. Prepare data for analysis\n",
    "\n",
    "In this tutorial, the provided data have been QC-ed. For a standard procedure, users are recommended to perform the following procedure:\n",
    "\n",
    "* Convert radar data from level 2 to CfRadial. \n",
    "\n",
    "* Quality-controlled raw data by desired QC-tools. For example: HawkEdit, PyArt..etc."
   ]
  },
  {
   "cell_type": "markdown",
   "id": "afc18fcc",
   "metadata": {},
   "source": [
    "* Modify the parameter file\n",
    "    - Parameter files modifications\n",
    "---\n",
    "* **GRID SPEC**\n",
    "    * zGrid [line 190], yGrid [line 200], xGrid [line 210]\n",
    "* **PROJECTION**\n",
    "    * projLat0 [line 255], projLon0 [line 265]: The origin is an arbitrarily chosen point, but should be relevant for your objective. For example, it can be the geographical center of your multi-radar domain, the physical location of a radar for a single-radar domain, or the location of a feature of interest within your dataset. The latitude and longitude of your chosen origin should be given in decimal degrees.\n",
    "* **FILES AND DIRECTORIES**\n",
    "    * inDir [line 453]: data directory\n",
    "    * fileRegex [line 463]: data type. ^swp or ^cfrad\n",
    "    * outNc [line 496]: output directory\n",
    "* **FIELDS**\n",
    "    * radialName [line 512]: variable name for the Doppler velocity\n",
    "    * dbzName [line 522]: variable name for the reflectivity\n",
    "    * ncpName [line 532]: variable name for the normalized coherent power"
   ]
  },
  {
   "cell_type": "markdown",
   "id": "047ce96c",
   "metadata": {},
   "source": [
    "### 3. Run FRACTL\n",
    "\n",
    "After modifying the parameter file, directing to the parameter file by typing the *-params* flags"
   ]
  },
  {
   "cell_type": "code",
   "execution_count": null,
   "id": "98284efa",
   "metadata": {},
   "outputs": [],
   "source": [
    "!${LROSE_DIR}/fractl -params ${BASE_DIR}/params/wind/fractl_params "
   ]
  },
  {
   "cell_type": "markdown",
   "id": "5c020c13",
   "metadata": {},
   "source": [
    "### 4. Plot SAMURAI results"
   ]
  },
  {
   "cell_type": "markdown",
   "id": "fd21fc76",
   "metadata": {},
   "source": [
    "#### Environment and packages¶\n",
    "Import the packages to plot the SAMURAI output"
   ]
  },
  {
   "cell_type": "code",
   "execution_count": null,
   "id": "a474141e",
   "metadata": {},
   "outputs": [],
   "source": [
    "import matplotlib.pyplot as plt\n",
    "import matplotlib.colors as colors\n",
    "import numpy as np\n",
    "import xarray as xr\n",
    "import matplotlib as mpl\n",
    "import cartopy.crs as ccrs\n",
    "from metpy.plots import ctables\n",
    "mpl.rcParams['figure.dpi'] = 300"
   ]
  },
  {
   "cell_type": "markdown",
   "id": "b5452a3b",
   "metadata": {},
   "source": [
    "Load the netcdf file"
   ]
  },
  {
   "cell_type": "code",
   "execution_count": null,
   "id": "3f23de24",
   "metadata": {
    "scrolled": true,
    "tags": []
   },
   "outputs": [],
   "source": [
    "inDir = base_dir+\"/data/wind/output_frac/20080702/\"\n",
    "file = \"ncf_20080702_230948.nc\"\n",
    "ds_radar = xr.open_dataset(inDir+file).squeeze()\n",
    "ds_radar.load()"
   ]
  },
  {
   "cell_type": "code",
   "execution_count": null,
   "id": "cc68a684",
   "metadata": {},
   "outputs": [],
   "source": [
    "## Get variables:\n",
    "da_DBZ = ds_radar['DBZ']\n",
    "da_U = ds_radar['U']\n",
    "da_V = ds_radar['V']\n",
    "da_W = ds_radar['W']\n",
    "da_CN = ds_radar['conditionNumber']\n",
    "\n",
    "lon, lat = np.meshgrid( ds_radar.lon0, ds_radar.lat0 )"
   ]
  },
  {
   "cell_type": "code",
   "execution_count": null,
   "id": "38835f9c",
   "metadata": {},
   "outputs": [],
   "source": [
    "ds_radar['z0']"
   ]
  },
  {
   "cell_type": "code",
   "execution_count": null,
   "id": "44cf368b",
   "metadata": {},
   "outputs": [],
   "source": [
    "np.shape(plotting_lon)"
   ]
  },
  {
   "cell_type": "code",
   "execution_count": null,
   "id": "f8bda8cd",
   "metadata": {},
   "outputs": [],
   "source": [
    "## Set NWS reflectivity colorbar:\n",
    "ref_norm, ref_cmap = ctables.registry.get_with_steps('NWSStormClearReflectivity', -20, 0.5)\n",
    "plotting_alt=3*1000 # altitude at 3 km\n",
    "plotting_var = ds_radar.DBZ.sel(z0=plotting_alt).data\n",
    "plotting_var_u = ds_radar.U.sel(z0=plotting_alt).data\n",
    "plotting_var_v = ds_radar.V.sel(z0=plotting_alt).data\n",
    "plotting_lon = ds_radar.lon0\n",
    "plotting_lat = ds_radar.lat0\n",
    "\n",
    "fig = plt.figure(figsize=(12,12))\n",
    "ax = plt.axes(projection=ccrs.PlateCarree())\n",
    "# stamen_terrain = cimgt.Stamen('terrain')\n",
    "# ax.add_image(stamen_terrain, 8)\n",
    "    \n",
    "ext = 0.02    \n",
    "ax.set_extent([np.min(lon)+ext, np.max(lon)-ext, np.min(lat)+ext, np.max(lat)-ext], crs=ccrs.PlateCarree())\n",
    "    \n",
    "cf1 = ax.pcolormesh( plotting_lon, plotting_lat, plotting_var\n",
    "                    , cmap=ref_cmap, norm=ref_norm\n",
    "                    , alpha=0.8\n",
    "                    , shading='auto'\n",
    "                    , transform=ccrs.PlateCarree() \n",
    "                    )\n",
    "step = 2\n",
    "cf_q = ax.quiver( plotting_lon[::step, ::step], plotting_lat[::step, ::step]\n",
    "                    , plotting_var_u[::step, ::step], plotting_var_v[::step, ::step]\n",
    "                    , scale=200\n",
    "                    , width=0.004\n",
    "                    , color='k'\n",
    "                    , transform=ccrs.PlateCarree() \n",
    "                    )\n",
    "cbar_ax = fig.add_axes([0.95, 0.3, 0.02, 0.4])\n",
    "cbar = fig.colorbar(cf1, cax=cbar_ax, fraction=0.04)\n",
    "cbar.ax.tick_params(labelsize=14)\n",
    "cbar.ax.set_title('[dBZ]', fontsize=14, y=-0.1)"
   ]
  }
 ],
 "metadata": {
  "kernelspec": {
   "display_name": "Python [conda env:lrose-ams-2023]",
   "language": "python",
   "name": "conda-env-lrose-ams-2023-py"
  },
  "language_info": {
   "codemirror_mode": {
    "name": "ipython",
    "version": 3
   },
   "file_extension": ".py",
   "mimetype": "text/x-python",
   "name": "python",
   "nbconvert_exporter": "python",
   "pygments_lexer": "ipython3",
   "version": "3.10.6"
  },
  "vscode": {
   "interpreter": {
    "hash": "31f2aee4e71d21fbe5cf8b01ff0e069b9275f58929596ceb00d14d90e3e16cd6"
   }
  }
 },
 "nbformat": 4,
 "nbformat_minor": 5
}
