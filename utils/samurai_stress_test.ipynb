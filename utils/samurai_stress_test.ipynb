{
 "cells": [
  {
   "cell_type": "markdown",
   "id": "5c0b4c02",
   "metadata": {},
   "source": [
    "# LROSE Gateway SAMURAI Stress Test\n",
    "\n",
    "---\n",
    "\n",
    "Basic notebook for testing SAMURAI on Jetstream2.\n",
    "\n",
    "---\n"
   ]
  },
  {
   "cell_type": "code",
   "execution_count": null,
   "id": "d3a4a59f",
   "metadata": {},
   "outputs": [],
   "source": [
    "import os\n",
    "os.environ['BASE_DIR'] = '/home/jovyan/lrose-hub'\n"
   ]
  },
  {
   "cell_type": "code",
   "execution_count": null,
   "id": "d3288757",
   "metadata": {},
   "outputs": [],
   "source": [
    "# create samurai output directory\n",
    "!rm -rf ${BASE_DIR}/data/testing\n",
    "!mkdir ${BASE_DIR}/data/testing\n"
   ]
  },
  {
   "cell_type": "code",
   "execution_count": null,
   "id": "e677c830-5fc7-4cf8-9009-bae55684e458",
   "metadata": {
    "scrolled": true,
    "tags": []
   },
   "outputs": [],
   "source": [
    "!fractl -params /home/jovyan/share/stress_testing/Goshen_fractl.params  \n"
   ]
  },
  {
   "cell_type": "code",
   "execution_count": null,
   "id": "7bbac4e9",
   "metadata": {
    "scrolled": true,
    "tags": []
   },
   "outputs": [],
   "source": [
    "!samurai -params /home/jovyan/share/stress_testing/Goshen_samurai.params\n"
   ]
  },
  {
   "cell_type": "code",
   "execution_count": null,
   "id": "ddf0dcb0-5993-4987-8e71-f90e78db2734",
   "metadata": {},
   "outputs": [],
   "source": []
  }
 ],
 "metadata": {
  "kernelspec": {
   "display_name": "Python [conda env:lrose-hub-2024]",
   "language": "python",
   "name": "conda-env-lrose-hub-2024-py"
  },
  "language_info": {
   "codemirror_mode": {
    "name": "ipython",
    "version": 3
   },
   "file_extension": ".py",
   "mimetype": "text/x-python",
   "name": "python",
   "nbconvert_exporter": "python",
   "pygments_lexer": "ipython3",
   "version": "3.12.1"
  },
  "vscode": {
   "interpreter": {
    "hash": "31f2aee4e71d21fbe5cf8b01ff0e069b9275f58929596ceb00d14d90e3e16cd6"
   }
  }
 },
 "nbformat": 4,
 "nbformat_minor": 5
}
