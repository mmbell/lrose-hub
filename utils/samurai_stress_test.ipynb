{
 "cells": [
  {
   "cell_type": "markdown",
   "id": "5c0b4c02",
   "metadata": {},
   "source": [
    "# LROSE Gateway SAMURAI Stress Test\n",
    "\n",
    "---\n",
    "\n",
    "Basic notebook for testing SAMURAI on Jetstream2.\n",
    "\n",
    "---\n"
   ]
  },
  {
   "cell_type": "code",
   "execution_count": null,
   "id": "d3a4a59f",
   "metadata": {},
   "outputs": [],
   "source": [
    "import os\n",
    "os.environ['BASE_DIR'] = '/home/jovyan/lrose-hub'\n"
   ]
  },
  {
   "cell_type": "code",
   "execution_count": null,
   "id": "d3288757",
   "metadata": {},
   "outputs": [],
   "source": [
    "# create samurai output directory\n",
    "!rm -rf ${BASE_DIR}/data/testing\n",
    "!mkdir -p ${BASE_DIR}/data/testing\n"
   ]
  },
  {
   "cell_type": "code",
   "execution_count": null,
   "id": "e677c830-5fc7-4cf8-9009-bae55684e458",
   "metadata": {
    "scrolled": true,
    "tags": []
   },
   "outputs": [],
   "source": [
    "!/usr/local/lrose/bin/fractl -params /home/jovyan/share/stress_testing/Goshen_fractl.params  \n"
   ]
  },
  {
   "cell_type": "code",
   "execution_count": null,
   "id": "7bbac4e9",
   "metadata": {
    "scrolled": true,
    "tags": []
   },
   "outputs": [],
   "source": [
    "# !/usr/local/lrose/bin/samurai -params /home/jovyan/share/stress_testing/Goshen_samurai.params 2>&1 > outfile_shared\n"
   ]
  },
  {
   "cell_type": "code",
   "execution_count": null,
   "id": "ddf0dcb0-5993-4987-8e71-f90e78db2734",
   "metadata": {},
   "outputs": [],
   "source": [
    "!mkdir -p ${BASE_DIR}/data/testing_noshare/input\n",
    "!mkdir -p ${BASE_DIR}/data/testing_noshare/output\n",
    "!cp /home/jovyan/share/raw/wind_guided/* ${BASE_DIR}/data/testing_noshare/input\n"
   ]
  },
  {
   "cell_type": "code",
   "execution_count": null,
   "id": "b57a140e-c874-4adf-8cc4-16fd35b4431c",
   "metadata": {},
   "outputs": [],
   "source": [
    "!/usr/local/lrose/bin/samurai -params /home/jovyan/share/stress_testing/Goshen_samurai.params_noshare 2>&1 > outfile_solo\n"
   ]
  },
  {
   "cell_type": "code",
   "execution_count": 1,
   "id": "e4c57e1a-79dc-4518-9235-b4571db36c77",
   "metadata": {},
   "outputs": [
    {
     "name": "stdout",
     "output_type": "stream",
     "text": [
      "Center file generated.\n"
     ]
    }
   ],
   "source": [
    "!/home/jovyan/share/raw/wind_guided/Generate_center.pl"
   ]
  },
  {
   "cell_type": "code",
   "execution_count": null,
   "id": "10019300-da83-4acb-9ee1-f246c5ffcac1",
   "metadata": {},
   "outputs": [],
   "source": []
  }
 ],
 "metadata": {
  "kernelspec": {
   "display_name": "Python [conda env:lrose-hub-2024]",
   "language": "python",
   "name": "conda-env-lrose-hub-2024-py"
  },
  "language_info": {
   "codemirror_mode": {
    "name": "ipython",
    "version": 3
   },
   "file_extension": ".py",
   "mimetype": "text/x-python",
   "name": "python",
   "nbconvert_exporter": "python",
   "pygments_lexer": "ipython3",
   "version": "3.12.1"
  },
  "vscode": {
   "interpreter": {
    "hash": "31f2aee4e71d21fbe5cf8b01ff0e069b9275f58929596ceb00d14d90e3e16cd6"
   }
  }
 },
 "nbformat": 4,
 "nbformat_minor": 5
}
